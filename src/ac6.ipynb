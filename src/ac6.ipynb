{
 "cells": [
  {
   "cell_type": "code",
   "execution_count": 49,
   "id": "47f433a4",
   "metadata": {},
   "outputs": [
    {
     "name": "stdout",
     "output_type": "stream",
     "text": [
      "18 [0 1 1 2 1 0 0 0 0]\n"
     ]
    },
    {
     "ename": "NameError",
     "evalue": "name 'shrf_shrimp' is not defined",
     "output_type": "error",
     "traceback": [
      "\u001b[0;31m---------------------------------------------------------------------------\u001b[0m",
      "\u001b[0;31mNameError\u001b[0m                                 Traceback (most recent call last)",
      "\u001b[0;32m/tmp/ipykernel_506254/2292699301.py\u001b[0m in \u001b[0;36m<module>\u001b[0;34m\u001b[0m\n\u001b[1;32m     45\u001b[0m \u001b[0mshrimp\u001b[0m \u001b[0;34m=\u001b[0m \u001b[0mnp\u001b[0m\u001b[0;34m.\u001b[0m\u001b[0marray\u001b[0m\u001b[0;34m(\u001b[0m\u001b[0minput_list\u001b[0m\u001b[0;34m)\u001b[0m\u001b[0;34m\u001b[0m\u001b[0;34m\u001b[0m\u001b[0m\n\u001b[1;32m     46\u001b[0m \u001b[0;34m\u001b[0m\u001b[0m\n\u001b[0;32m---> 47\u001b[0;31m \u001b[0mprint\u001b[0m\u001b[0;34m(\u001b[0m\u001b[0mnp\u001b[0m\u001b[0;34m.\u001b[0m\u001b[0msize\u001b[0m\u001b[0;34m(\u001b[0m\u001b[0mgrowShrimp\u001b[0m\u001b[0;34m(\u001b[0m\u001b[0mshrimp\u001b[0m\u001b[0;34m,\u001b[0m\u001b[0;36m18\u001b[0m\u001b[0;34m)\u001b[0m\u001b[0;34m)\u001b[0m\u001b[0;34m)\u001b[0m\u001b[0;34m\u001b[0m\u001b[0;34m\u001b[0m\u001b[0m\n\u001b[0m\u001b[1;32m     48\u001b[0m \u001b[0;34m\u001b[0m\u001b[0m\n\u001b[1;32m     49\u001b[0m \u001b[0;31m#can be used to \"shift\"\u001b[0m\u001b[0;34m\u001b[0m\u001b[0;34m\u001b[0m\u001b[0m\n",
      "\u001b[0;32m/tmp/ipykernel_506254/2292699301.py\u001b[0m in \u001b[0;36mgrowShrimp\u001b[0;34m(shrimp, days)\u001b[0m\n\u001b[1;32m     35\u001b[0m     \u001b[0maged_shrimp\u001b[0m \u001b[0;34m=\u001b[0m \u001b[0;34m(\u001b[0m\u001b[0mnp\u001b[0m\u001b[0;34m.\u001b[0m\u001b[0mrepeat\u001b[0m\u001b[0;34m(\u001b[0m\u001b[0mnp\u001b[0m\u001b[0;34m.\u001b[0m\u001b[0marange\u001b[0m\u001b[0;34m(\u001b[0m\u001b[0mshrimp_ages\u001b[0m\u001b[0;34m.\u001b[0m\u001b[0msize\u001b[0m\u001b[0;34m)\u001b[0m\u001b[0;34m,\u001b[0m\u001b[0mshrimp_ages\u001b[0m\u001b[0;34m)\u001b[0m\u001b[0;34m)\u001b[0m\u001b[0;34m-\u001b[0m\u001b[0;36m1\u001b[0m\u001b[0;34m\u001b[0m\u001b[0;34m\u001b[0m\u001b[0m\n\u001b[1;32m     36\u001b[0m     \u001b[0mdays\u001b[0m\u001b[0;34m-=\u001b[0m\u001b[0;36m1\u001b[0m\u001b[0;34m\u001b[0m\u001b[0;34m\u001b[0m\u001b[0m\n\u001b[0;32m---> 37\u001b[0;31m     \u001b[0;32mreturn\u001b[0m \u001b[0mgrowShrimp\u001b[0m\u001b[0;34m(\u001b[0m\u001b[0mshrf_shrimp\u001b[0m\u001b[0;34m,\u001b[0m\u001b[0mdays\u001b[0m\u001b[0;34m)\u001b[0m\u001b[0;34m\u001b[0m\u001b[0;34m\u001b[0m\u001b[0m\n\u001b[0m\u001b[1;32m     38\u001b[0m \u001b[0;34m\u001b[0m\u001b[0m\n\u001b[1;32m     39\u001b[0m \u001b[0;34m\u001b[0m\u001b[0m\n",
      "\u001b[0;31mNameError\u001b[0m: name 'shrf_shrimp' is not defined"
     ]
    }
   ],
   "source": [
    "#Advent of Code Problem 6\n",
    "#we are very behind, still haven got problem 4 part 2 or any of problem 5..\n",
    "\n",
    "import requests\n",
    "import numpy as np\n",
    "\n",
    "\n",
    "def getPuzzleInputAsList(day):\n",
    "    cookie_file = open(\"../keys/session.cookie\")\n",
    "    cookie_raw = cookie_file.readline()\n",
    "    cookie = cookie_raw.strip(\"\\n\")\n",
    "    sesh = requests.Session()\n",
    "    url = \"https://adventofcode.com/2021/day/\"+str(day)+\"/input\"\n",
    "    req = sesh.get(url,cookies={\"session\":cookie})\n",
    "    input_raw = req.text\n",
    "    input_list = input_raw.split(\"\\n\")\n",
    "    return input_list\n",
    "\n",
    "#probably be more efficient if I bitshifted, but doing this bincount to\n",
    "#need to play with the ordering of the subtraction and addition\n",
    "#each day-- should split the birth and the reset of the timer\n",
    "def growShrimp(shrimp,days):\n",
    "    if days == 0:\n",
    "        return shrimp\n",
    "    \n",
    "    proto_ages = np.bincount(shrimp)\n",
    "    empty_ages = np.zeros(10,dtype=np.int64)\n",
    "    empty_ages[:len(proto_ages)] = proto_ages\n",
    "    shrimp_ages = np.copy(empty_ages)\n",
    "    birthing = shrimp_ages[0]\n",
    "    shrimp_ages[9]+=birthing\n",
    "    shrimp_ages[7]+=birthing\n",
    "    shrimp_ages[0]-=birthing\n",
    "    print(days,shrimp_ages)\n",
    "    aged_shrimp = (np.repeat(np.arange(shrimp_ages.size),shrimp_ages))-1\n",
    "    days-=1\n",
    "    return growShrimp(aged_shrimp,days)\n",
    "    \n",
    "\n",
    "\n",
    "#input_list = getPuzzleInputAsList(6)\n",
    "input_list = [3,4,3,1,2]\n",
    "\n",
    "#shrimp = np.loadtxt(input_list,delimiter=',',dtype=np.int64)\n",
    "shrimp = np.array(input_list)\n",
    "\n",
    "print(np.size(growShrimp(shrimp,18)))\n",
    "\n",
    "#can be used to \"shift\"\n",
    "#print(np.roll(shrimp_ages,-2))\n",
    "\n",
    "#can be used to \"reverse bincount\"\n",
    "#proto_shrimp = np.repeat(np.arange(shrimp_ages.size),shrimp_ages)\n",
    "#print(np.bincount(proto_shrimp))"
   ]
  },
  {
   "cell_type": "code",
   "execution_count": null,
   "id": "b9273462",
   "metadata": {},
   "outputs": [],
   "source": []
  }
 ],
 "metadata": {
  "kernelspec": {
   "display_name": "Python 3 (ipykernel)",
   "language": "python",
   "name": "python3"
  },
  "language_info": {
   "codemirror_mode": {
    "name": "ipython",
    "version": 3
   },
   "file_extension": ".py",
   "mimetype": "text/x-python",
   "name": "python",
   "nbconvert_exporter": "python",
   "pygments_lexer": "ipython3",
   "version": "3.9.7"
  }
 },
 "nbformat": 4,
 "nbformat_minor": 5
}
