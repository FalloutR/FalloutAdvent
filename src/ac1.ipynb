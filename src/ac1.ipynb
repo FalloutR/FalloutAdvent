{
 "cells": [
  {
   "cell_type": "code",
   "execution_count": null,
   "id": "e28022d5",
   "metadata": {},
   "outputs": [],
   "source": [
    "#Advent of Code day 1/2021\n",
    "\n",
    "f_in = open(\"ac1.in\")\n",
    "\n",
    "input_list = f_in.readlines()\n",
    "\n",
    "#print(input_list)\n",
    "\n",
    "prev = 10000 #setting to 10k as its highest number we have and easier than implementing a special procedure for first\n",
    "             #run\n",
    "    \n",
    "acc = 0 #accumulator for counting\n",
    "\n",
    "for ea in input_list:\n",
    "    test = int(ea)\n",
    "    if  test > prev:\n",
    "        acc += 1\n",
    "        prev = test\n",
    "    else:\n",
    "        prev = test\n",
    "    \n",
    "print(acc)\n",
    "print(prev)"
   ]
  },
  {
   "cell_type": "code",
   "execution_count": 8,
   "id": "0fc41aa3",
   "metadata": {},
   "outputs": [],
   "source": [
    "#Advent of Code day 1/2021 part 2\n",
    "\n",
    "f_in = open(\"ac1.in\")\n",
    "\n",
    "input_list = f_in.readlines()\n",
    "\n",
    "#print(input_list)\n",
    "\n",
    "prev = 10000 #setting to 10k as its highest number we have and easier than implementing a special procedure for first\n",
    "             #run\n",
    "    \n",
    "acc = 0 #accumulator for counting\n",
    "\n",
    "loop_acc = 0 #accumulator for looping\n",
    "\n",
    "for ea in input_list:\n",
    "    if (loop_acc+2)>=2000:\n",
    "        break\n",
    "    \n",
    "    win0 = int(input_list[loop_acc])\n",
    "    win1 = int(input_list[loop_acc+1])\n",
    "    win2 = int(input_list[loop_acc+2])\n",
    "    loop_acc+=1\n",
    "    \n",
    "    test = win0 + win1 + win2\n",
    "\n",
    "    if  test > prev:\n",
    "        acc += 1\n",
    "        prev = test\n",
    "    else:\n",
    "        prev = test\n",
    "    \n",
    "    \n",
    "print(acc)\n",
    "print(prev)"
   ]
  },
  {
   "cell_type": "code",
   "execution_count": null,
   "id": "75b8e8b6",
   "metadata": {},
   "outputs": [],
   "source": []
  }
 ],
 "metadata": {
  "kernelspec": {
   "display_name": "Python 3 (ipykernel)",
   "language": "python",
   "name": "python3"
  },
  "language_info": {
   "codemirror_mode": {
    "name": "ipython",
    "version": 3
   },
   "file_extension": ".py",
   "mimetype": "text/x-python",
   "name": "python",
   "nbconvert_exporter": "python",
   "pygments_lexer": "ipython3",
   "version": "3.9.7"
  }
 },
 "nbformat": 4,
 "nbformat_minor": 5
}
