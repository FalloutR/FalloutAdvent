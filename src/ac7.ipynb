{
 "cells": [
  {
   "cell_type": "code",
   "execution_count": null,
   "id": "583dd278",
   "metadata": {},
   "outputs": [],
   "source": [
    "#Advent of Code Problem 7\n",
    "\n",
    "import requests\n",
    "import numpy as np\n",
    "\n",
    "def getPuzzleInputAsList(day): #define our function\n",
    "    cookie_file = open(\"../keys/session.cookie\") #open the keys file, this keeps us from having it in static code\n",
    "    cookie_raw = cookie_file.readline() #read the keys file, leads to more secure sharing and fs controls\n",
    "    cookie = cookie_raw.strip(\"\\n\") #strip the newline char\n",
    "    sesh = requests.Session() #initialize our session\n",
    "    url = \"https://adventofcode.com/2021/day/\"+str(day)+\"/input\" #append our day object to our destination url\n",
    "    req = sesh.get(url,cookies={\"session\":cookie}) #make our request\n",
    "    input_raw = req.text #get our request text\n",
    "    input_list = input_raw.split(\"\\n\") #split our request text based on newline char\n",
    "    return input_list\n",
    "\n",
    "input_list = getPuzzleInputAsList(7)\n",
    "\n",
    "crab_subs = np.loadtxt(input_list,delimiter=',')\n",
    "\n",
    "crab_subs-=np.median(crab_subs) #cost for each sub, leads to negatives (cant burn negative fuel)\n",
    "fuel_cost = np.sum(np.absolute(crab_subs)) #sum fuel costs after taking absolute value\n",
    "print(fuel_cost)"
   ]
  },
  {
   "cell_type": "code",
   "execution_count": 21,
   "id": "b6ba8a63",
   "metadata": {},
   "outputs": [
    {
     "name": "stdout",
     "output_type": "stream",
     "text": [
      "[16.  1.  2.  0.  4.  2.  7.  1.  2. 14.]\n",
      "[11. -4. -3. -5. -1. -3.  2. -4. -3.  9.]\n",
      "[11.  4.  3.  5.  1.  3.  2.  4.  3.  9.]\n",
      "[55. 16.  9. 10.  1.  6.  6. 16. 15. 54.]\n",
      "188.0\n"
     ]
    }
   ],
   "source": [
    "#Advent of Code Problem 7 part 2 \n",
    "\n",
    "#not sure how to approach this, initial thought was mean vs median\n",
    "#this appears to give us the proper coord however our energy/fuel cost is still off\n",
    "\n",
    "import requests\n",
    "import numpy as np\n",
    "\n",
    "def getPuzzleInputAsList(day): #define our function\n",
    "    cookie_file = open(\"../keys/session.cookie\") #open the keys file, this keeps us from having it in static code\n",
    "    cookie_raw = cookie_file.readline() #read the keys file, leads to more secure sharing and fs controls\n",
    "    cookie = cookie_raw.strip(\"\\n\") #strip the newline char\n",
    "    sesh = requests.Session() #initialize our session\n",
    "    url = \"https://adventofcode.com/2021/day/\"+str(day)+\"/input\" #append our day object to our destination url\n",
    "    req = sesh.get(url,cookies={\"session\":cookie}) #make our request\n",
    "    input_raw = req.text #get our request text\n",
    "    input_list = input_raw.split(\"\\n\") #split our request text based on newline char\n",
    "    return input_list\n",
    "\n",
    "#input_list = getPuzzleInputAsList(7)\n",
    "input_list = [16,1,2,0,4,2,7,1,2,14]\n",
    "multi_list = [5,4,3,2,1,2,3,4,5,6]\n",
    "\n",
    "#crab_subs = np.loadtxt(input_list,delimiter=',')\n",
    "crab_subs = np.array(input_list,dtype=np.float64)\n",
    "\n",
    "#first that comes to mind is using a np.array generated using the mean as the cental point\n",
    "#+1 for each space out as the same shape as crab_subs, multiply then sum these two arrays\n",
    "#ex mean is 5 shape 10, need an array = [5,4,3,2,1,2,3,4,5,6], well this aint working for some reason..\n",
    "#this appears to be because of a subtraction issue, again not entirely sure a solution..\n",
    "mean_dist = np.round(np.mean(crab_subs))\n",
    "print(crab_subs)\n",
    "crab_subs-=mean_dist #cost for each sub\n",
    "print(crab_subs)\n",
    "fuel_cost_proto = np.absolute(crab_subs)\n",
    "print(fuel_cost_proto)\n",
    "fuel_cost = fuel_cost_proto*multi_list\n",
    "print(fuel_cost)\n",
    "print(np.sum(fuel_cost))"
   ]
  },
  {
   "cell_type": "code",
   "execution_count": null,
   "id": "d6f7cc17",
   "metadata": {},
   "outputs": [],
   "source": []
  }
 ],
 "metadata": {
  "kernelspec": {
   "display_name": "Python 3 (ipykernel)",
   "language": "python",
   "name": "python3"
  },
  "language_info": {
   "codemirror_mode": {
    "name": "ipython",
    "version": 3
   },
   "file_extension": ".py",
   "mimetype": "text/x-python",
   "name": "python",
   "nbconvert_exporter": "python",
   "pygments_lexer": "ipython3",
   "version": "3.9.7"
  }
 },
 "nbformat": 4,
 "nbformat_minor": 5
}
