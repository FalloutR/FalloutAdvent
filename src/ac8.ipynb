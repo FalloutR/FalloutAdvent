{
 "cells": [
  {
   "cell_type": "code",
   "execution_count": null,
   "id": "e4a18857",
   "metadata": {},
   "outputs": [],
   "source": [
    "#Advent of Code Problem 8\n",
    "\n",
    "#not even sure where to begin with this problem\n",
    "\n",
    "def getPuzzleInputAsList(day): #define our function\n",
    "    cookie_file = open(\"../keys/session.cookie\") #open the keys file, this keeps us from having it in static code\n",
    "    cookie_raw = cookie_file.readline() #read the keys file, leads to more secure sharing and fs controls\n",
    "    cookie = cookie_raw.strip(\"\\n\") #strip the newline char\n",
    "    sesh = requests.Session() #initialize our session\n",
    "    url = \"https://adventofcode.com/2021/day/\"+str(day)+\"/input\" #append our day object to our destination url\n",
    "    req = sesh.get(url,cookies={\"session\":cookie}) #make our request\n",
    "    input_raw = req.text #get our request text\n",
    "    input_list = input_raw.split(\"\\n\") #split our request text based on newline char\n",
    "    return input_list"
   ]
  }
 ],
 "metadata": {
  "kernelspec": {
   "display_name": "Python 3 (ipykernel)",
   "language": "python",
   "name": "python3"
  },
  "language_info": {
   "codemirror_mode": {
    "name": "ipython",
    "version": 3
   },
   "file_extension": ".py",
   "mimetype": "text/x-python",
   "name": "python",
   "nbconvert_exporter": "python",
   "pygments_lexer": "ipython3",
   "version": "3.9.7"
  }
 },
 "nbformat": 4,
 "nbformat_minor": 5
}
